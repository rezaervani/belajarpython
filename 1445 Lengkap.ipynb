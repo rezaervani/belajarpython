{
 "cells": [
  {
   "cell_type": "code",
   "execution_count": 11,
   "id": "c46e5421",
   "metadata": {},
   "outputs": [
    {
     "name": "stdout",
     "output_type": "stream",
     "text": [
      "Tinggi Bulan kurang dari 1 derajat\n",
      "Bulan Baru Berikutnya adalah :  2023-07-18 Pukul :  01:31:46.213453\n",
      "Estimasi 1  Muharram  1445 H :  2023-07-20\n",
      "Waktu Maghrib : 17:52:17.806085\n",
      "Elongasi Bulan :  12:41:13.6\n",
      "6:09:36.2\n",
      "Ketinggian Bulan :  6.160068638372222\n",
      "\n",
      "Usia Bulan :  16:20:31.592632 \n",
      "\n",
      "Tinggi Bulan kurang dari 1 derajat\n",
      "Bulan Baru Berikutnya adalah :  2023-08-16 Pukul :  16:38:06.977830\n",
      "Estimasi 1  Safar  1445 H :  2023-08-18\n",
      "Waktu Maghrib : 17:54:01.078204\n",
      "Elongasi Bulan :  12:41:13.6\n",
      "0:15:41.1\n",
      "Ketinggian Bulan :  0.2614280518031768\n",
      "\n",
      "Usia Bulan :  1:15:54.100374 \n",
      "\n",
      "Tinggi Bulan kurang dari 1 derajat\n",
      "Bulan Baru Berikutnya adalah :  2023-09-15 Pukul :  08:39:44.878052\n",
      "Estimasi 1  Rabiul Awwal  1445 H :  2023-09-17\n",
      "Waktu Maghrib : 17:50:01.796482\n",
      "Elongasi Bulan :  12:41:13.6\n",
      "3:10:14.5\n",
      "Ketinggian Bulan :  3.1706824554164044\n",
      "\n",
      "Usia Bulan :  9:10:16.918430 \n",
      "\n",
      "Tinggi Bulan kurang dari 1 derajat\n",
      "Bulan Baru Berikutnya adalah :  2023-10-15 Pukul :  00:55:06.524339\n",
      "Estimasi 1  Rabiul Akhir  1445 H :  2023-10-17\n",
      "Waktu Maghrib : 17:46:02.617420\n",
      "Elongasi Bulan :  12:41:13.6\n",
      "5:57:31.9\n",
      "Ketinggian Bulan :  5.958868767783394\n",
      "\n",
      "Usia Bulan :  16:50:56.093081 \n",
      "\n",
      "Tinggi Bulan kurang dari 1 derajat\n",
      "Bulan Baru Berikutnya adalah :  2023-11-13 Pukul :  16:27:22.323325\n",
      "Estimasi 1  Jumadil Awwal  1445 H :  2023-11-15\n",
      "Waktu Maghrib : 17:49:16.586666\n",
      "Elongasi Bulan :  12:41:13.6\n",
      "-0:43:46.2\n",
      "Ketinggian Bulan :  -0.729504117275324\n",
      "\n",
      "Usia Bulan :  1:21:54.263341 \n",
      "\n",
      "Tinggi Bulan kurang dari 1 derajat\n",
      "Bulan Baru Berikutnya adalah :  2023-12-13 Pukul :  06:31:59.996258\n",
      "Estimasi 1  Jumadil Akhir  1445 H :  2023-12-15\n",
      "Waktu Maghrib : 18:01:59.597821\n",
      "Elongasi Bulan :  12:41:13.6\n",
      "4:47:07.3\n",
      "Ketinggian Bulan :  4.785370978275742\n",
      "\n",
      "Usia Bulan :  11:29:59.601563 \n",
      "\n",
      "Tinggi Bulan kurang dari 1 derajat\n",
      "Bulan Baru Berikutnya adalah :  2024-01-11 Pukul :  18:57:21.833123\n",
      "Estimasi 1  Rajab  1445 H :  2024-01-13\n",
      "Waktu Maghrib : 18:15:13.936218\n",
      "Elongasi Bulan :  12:41:13.6\n",
      "12:21:35.9\n",
      "Ketinggian Bulan :  12.359977770173128\n",
      "\n",
      "Usia Bulan :  23:17:52.103095 \n",
      "\n",
      "Tinggi Bulan kurang dari 1 derajat\n",
      "Bulan Baru Berikutnya adalah :  2024-02-10 Pukul :  05:59:07.641552\n",
      "Estimasi 1  Sya'ban  1445 H :  2024-02-12\n",
      "Waktu Maghrib : 18:17:22.650024\n",
      "Elongasi Bulan :  12:41:13.6\n",
      "6:25:43.9\n",
      "Ketinggian Bulan :  6.428847681269625\n",
      "\n",
      "Usia Bulan :  12:18:15.008472 \n",
      "\n",
      "Tinggi Bulan kurang dari 1 derajat\n",
      "Bulan Baru Berikutnya adalah :  2024-03-10 Pukul :  16:00:23.041980\n",
      "Estimasi 1  Ramadhan  1445 H :  2024-03-12\n",
      "Waktu Maghrib : 18:08:04.652449\n",
      "Elongasi Bulan :  12:41:13.6\n",
      "0:41:24.4\n",
      "Ketinggian Bulan :  0.6900989416845222\n",
      "\n",
      "Usia Bulan :  2:07:41.610469 \n",
      "\n",
      "Tinggi Bulan kurang dari 1 derajat\n",
      "Bulan Baru Berikutnya adalah :  2024-04-09 Pukul :  01:20:48.517023\n",
      "Estimasi 1  Syawal  1445 H :  2024-04-11\n",
      "Waktu Maghrib : 17:53:54.655768\n",
      "Elongasi Bulan :  12:41:13.6\n",
      "6:02:36.4\n",
      "Ketinggian Bulan :  6.043455538012124\n",
      "\n",
      "Usia Bulan :  16:33:06.138745 \n",
      "\n",
      "Tinggi Bulan kurang dari 1 derajat\n",
      "Bulan Baru Berikutnya adalah :  2024-05-08 Pukul :  10:21:52.990412\n",
      "Estimasi 1  Dzulqa'dah  1445 H :  2024-05-10\n",
      "Waktu Maghrib : 17:44:23.855604\n",
      "Elongasi Bulan :  12:41:13.6\n",
      "1:06:02.1\n",
      "Ketinggian Bulan :  1.100579970589066\n",
      "\n",
      "Usia Bulan :  7:22:30.865192 \n",
      "\n",
      "Tinggi Bulan kurang dari 1 derajat\n",
      "Bulan Baru Berikutnya adalah :  2024-06-06 Pukul :  19:37:40.732153\n",
      "Estimasi 1  Dzulhijjah  1445 H :  2024-06-08\n",
      "Waktu Maghrib : 17:44:04.598046\n",
      "Elongasi Bulan :  12:41:13.6\n",
      "8:36:54.6\n",
      "Ketinggian Bulan :  8.615170317136373\n",
      "\n",
      "Usia Bulan :  22:06:23.865893 \n",
      "\n"
     ]
    }
   ],
   "source": [
    "import ephem\n",
    "from datetime import datetime, date, timedelta\n",
    "import math\n",
    "\n",
    "\n",
    "bulan_names = {\n",
    "    1: \"Muharram\",\n",
    "    2: \"Safar\",\n",
    "    3: \"Rabiul Awwal\",\n",
    "    4: \"Rabiul Akhir\",\n",
    "    5: \"Jumadil Awwal\",\n",
    "    6: \"Jumadil Akhir\",\n",
    "    7: \"Rajab\",\n",
    "    8: \"Sya\\'ban\",\n",
    "    9: \"Ramadhan\",\n",
    "    10: \"Syawal\",\n",
    "    11: \"Dzulqa\\'dah\",\n",
    "    12: \"Dzulhijjah\"\n",
    "}\n",
    "\n",
    "\n",
    "# Titik acuan tanggal (1 Dzulhijjah 1444 H)\n",
    "\n",
    "tanggal = '2023-7-1'\n",
    "\n",
    "# Menetapkan posisi observer\n",
    "\n",
    "# Membuat objek observer\n",
    "observer = ephem.Observer()\n",
    "\n",
    "# Mengatur koordinat tempat pengamatan (latitude, longitude)\n",
    "#observer.lat = '-6.690440'  # Latitude Cileungsi\n",
    "#observer.lon = '174.777969'  # Longitude Cileungsi\n",
    "\n",
    "observer.lat = '-6.690440'  # Latitude Cileungsi\n",
    "observer.lon = '106.855591'  # Longitude Cileungsi\n",
    "\n",
    "# Kapan 1 Muharram 1445 H ?\n",
    "\n",
    "# Konversi tanggal ke objek ephem.Date()\n",
    "\n",
    "\n",
    "\n",
    "nomorbulan = 1\n",
    "\n",
    "while True:\n",
    "    # Bulan Baru Berikutnya :\n",
    "    tanggalephem = ephem.Date(tanggal)\n",
    "    bulanbaru = ephem.next_new_moon(tanggalephem) # Tidak spesifik ke Time Zone tertentu\n",
    "\n",
    "    waktulokal = ephem.localtime(bulanbaru)\n",
    "    tanggalsaja = waktulokal.date()\n",
    "    waktusaja = waktulokal.time()      # Diperlukan untuk Menghitung Usia Bulan Saat Maghrib\n",
    "\n",
    "    \n",
    "    # Menghitung Waktu Maghrib\n",
    "    observer.date = ephem.Date(bulanbaru)\n",
    "\n",
    "\n",
    "    # Menghitung waktu matahari terbenam\n",
    "    sun = ephem.Sun()\n",
    "    sunset = observer.next_setting(sun)\n",
    "\n",
    "    # Mengatur waktu matahari terbenam sebagai waktu maghrib\n",
    "    \n",
    "    waktumaghrib = ephem.localtime(sunset)\n",
    "    waktumaghribjam = waktumaghrib.time()\n",
    "    \n",
    "    # Convert the times to datetime objects\n",
    "    #waktumaghrib_datetime = datetime.combine(date.today(), waktumaghribjam)\n",
    "    #waktusaja_datetime = datetime.combine(date.today(), waktusaja)\n",
    "\n",
    "    # Calculate the time difference\n",
    "    #usiabulan = waktumaghrib_datetime - waktusaja_datetime\n",
    "    usiabulan = waktumaghrib - waktulokal\n",
    "    \n",
    "    \n",
    "    # Menghitung elongasi bulan pada waktu maghrib\n",
    "    moon = ephem.Moon()\n",
    "    observer.date = sunset\n",
    "    moon.compute(observer)\n",
    "    #elongation = ephem.degrees(moon.elong)\n",
    "    #moon_azimuth = ephem.degrees(moon.az)\n",
    "    #ketinggianbulan = ephem.degrees(moon.alt)\n",
    "    ketinggianbulan = math.degrees(moon.alt)\n",
    "    \n",
    "    \n",
    "    #seharisetelahnya = timedelta(days=1) + tanggalsaja\n",
    "    if (moon_altitude < 1):\n",
    "        \n",
    "        print (\"Tinggi Bulan kurang dari 1 derajat\")\n",
    "        seharisetelahnya = timedelta(days=2) + tanggalsaja\n",
    "    else:\n",
    "        print (\"Tinggi Bulan lebih dari 1 derajat\")\n",
    "        seharisetelahnya = timedelta(days=1) + tanggalsaja\n",
    "    \n",
    "    if nomorbulan in bulan_names:\n",
    "        namabulanhijriyah = bulan_names[nomorbulan]\n",
    "    \n",
    "    #print(waktumaghrib)\n",
    "    print(\"Bulan Baru Berikutnya adalah : \", tanggalsaja, \"Pukul : \", waktusaja)\n",
    "    print(\"Estimasi 1 \", namabulanhijriyah, \" 1445 H : \", seharisetelahnya)\n",
    "    print(\"Waktu Maghrib :\" ,waktumaghribjam,)\n",
    "    print(\"Elongasi Bulan : \", elongation)\n",
    "    print(moon.alt)\n",
    "    #print(moon_azimuth)\n",
    "    print(\"Ketinggian Bulan : \", ketinggianbulan)\n",
    "    print()\n",
    "    print(\"Usia Bulan : \", usiabulan,\"\\n\")\n",
    "    #print(nomorbulan)\n",
    "\n",
    "      \n",
    "    tanggal = str(seharisetelahnya)\n",
    "    nomorbulan = nomorbulan + 1\n",
    "    \n",
    "    # Check if tanggalsaja is equal to July 1st, 2024\n",
    "\n",
    "    if nomorbulan == 13:\n",
    "        break\n",
    "\n",
    "\n",
    "\n"
   ]
  },
  {
   "cell_type": "code",
   "execution_count": 7,
   "id": "11c6f2c3",
   "metadata": {},
   "outputs": [
    {
     "data": {
      "text/plain": [
       "datetime.time"
      ]
     },
     "execution_count": 7,
     "metadata": {},
     "output_type": "execute_result"
    }
   ],
   "source": [
    "type(waktusaja)"
   ]
  },
  {
   "cell_type": "code",
   "execution_count": 8,
   "id": "e7347f64",
   "metadata": {},
   "outputs": [
    {
     "data": {
      "text/plain": [
       "datetime.time"
      ]
     },
     "execution_count": 8,
     "metadata": {},
     "output_type": "execute_result"
    }
   ],
   "source": [
    "type(waktumaghribjam)"
   ]
  },
  {
   "cell_type": "code",
   "execution_count": 13,
   "id": "8f4dcff7",
   "metadata": {},
   "outputs": [
    {
     "name": "stdout",
     "output_type": "stream",
     "text": [
      "11:52:45.273453\n"
     ]
    }
   ],
   "source": [
    "usiabulan = waktumaghrib - waktulokal\n",
    "print(usiabulan)"
   ]
  },
  {
   "cell_type": "code",
   "execution_count": 35,
   "id": "16cbae97",
   "metadata": {},
   "outputs": [
    {
     "data": {
      "text/plain": [
       "datetime.date"
      ]
     },
     "execution_count": 35,
     "metadata": {},
     "output_type": "execute_result"
    }
   ],
   "source": [
    "type(desired_date)"
   ]
  },
  {
   "cell_type": "code",
   "execution_count": 54,
   "id": "1bb06624",
   "metadata": {},
   "outputs": [
    {
     "data": {
      "text/plain": [
       "ephem.Date"
      ]
     },
     "execution_count": 54,
     "metadata": {},
     "output_type": "execute_result"
    }
   ],
   "source": [
    "type(bulanbaru)"
   ]
  },
  {
   "cell_type": "code",
   "execution_count": 55,
   "id": "64150104",
   "metadata": {},
   "outputs": [
    {
     "data": {
      "text/plain": [
       "datetime.datetime"
      ]
     },
     "execution_count": 55,
     "metadata": {},
     "output_type": "execute_result"
    }
   ],
   "source": [
    "type(waktulokal)"
   ]
  },
  {
   "cell_type": "code",
   "execution_count": 5,
   "id": "4ea406af",
   "metadata": {},
   "outputs": [
    {
     "data": {
      "text/plain": [
       "ephem.Date"
      ]
     },
     "execution_count": 5,
     "metadata": {},
     "output_type": "execute_result"
    }
   ],
   "source": [
    "type(sunset)"
   ]
  },
  {
   "cell_type": "code",
   "execution_count": null,
   "id": "1383cdee",
   "metadata": {},
   "outputs": [],
   "source": []
  }
 ],
 "metadata": {
  "kernelspec": {
   "display_name": "Python 3 (ipykernel)",
   "language": "python",
   "name": "python3"
  },
  "language_info": {
   "codemirror_mode": {
    "name": "ipython",
    "version": 3
   },
   "file_extension": ".py",
   "mimetype": "text/x-python",
   "name": "python",
   "nbconvert_exporter": "python",
   "pygments_lexer": "ipython3",
   "version": "3.9.12"
  }
 },
 "nbformat": 4,
 "nbformat_minor": 5
}
